{
 "cells": [
  {
   "cell_type": "code",
   "execution_count": 4,
   "id": "2ec6c48c",
   "metadata": {},
   "outputs": [],
   "source": [
    "import pandas as pd\n",
    "import numpy as np\n",
    "import matplotlib.pyplot as plt\n",
    "from sklearn.linear_model import LinearRegression\n",
    "from sklearn.model_selection import train_test_split"
   ]
  },
  {
   "cell_type": "code",
   "execution_count": 5,
   "id": "30612275",
   "metadata": {
    "scrolled": true
   },
   "outputs": [
    {
     "data": {
      "text/html": [
       "<div>\n",
       "<style scoped>\n",
       "    .dataframe tbody tr th:only-of-type {\n",
       "        vertical-align: middle;\n",
       "    }\n",
       "\n",
       "    .dataframe tbody tr th {\n",
       "        vertical-align: top;\n",
       "    }\n",
       "\n",
       "    .dataframe thead th {\n",
       "        text-align: right;\n",
       "    }\n",
       "</style>\n",
       "<table border=\"1\" class=\"dataframe\">\n",
       "  <thead>\n",
       "    <tr style=\"text-align: right;\">\n",
       "      <th></th>\n",
       "      <th>Marketing Spend</th>\n",
       "      <th>Administration</th>\n",
       "      <th>Transport</th>\n",
       "      <th>Area</th>\n",
       "      <th>Profit</th>\n",
       "    </tr>\n",
       "  </thead>\n",
       "  <tbody>\n",
       "    <tr>\n",
       "      <th>0</th>\n",
       "      <td>114523.61</td>\n",
       "      <td>136897.80</td>\n",
       "      <td>471784.10</td>\n",
       "      <td>Dhaka</td>\n",
       "      <td>192261.83</td>\n",
       "    </tr>\n",
       "    <tr>\n",
       "      <th>1</th>\n",
       "      <td>162597.70</td>\n",
       "      <td>151377.59</td>\n",
       "      <td>443898.53</td>\n",
       "      <td>Ctg</td>\n",
       "      <td>191792.06</td>\n",
       "    </tr>\n",
       "    <tr>\n",
       "      <th>2</th>\n",
       "      <td>153441.51</td>\n",
       "      <td>101145.55</td>\n",
       "      <td>407934.54</td>\n",
       "      <td>Rangpur</td>\n",
       "      <td>191050.39</td>\n",
       "    </tr>\n",
       "    <tr>\n",
       "      <th>3</th>\n",
       "      <td>144372.41</td>\n",
       "      <td>118671.85</td>\n",
       "      <td>383199.62</td>\n",
       "      <td>Dhaka</td>\n",
       "      <td>182901.99</td>\n",
       "    </tr>\n",
       "    <tr>\n",
       "      <th>4</th>\n",
       "      <td>142107.34</td>\n",
       "      <td>91391.77</td>\n",
       "      <td>366168.42</td>\n",
       "      <td>Rangpur</td>\n",
       "      <td>166187.94</td>\n",
       "    </tr>\n",
       "  </tbody>\n",
       "</table>\n",
       "</div>"
      ],
      "text/plain": [
       "   Marketing Spend  Administration  Transport     Area     Profit\n",
       "0        114523.61       136897.80  471784.10    Dhaka  192261.83\n",
       "1        162597.70       151377.59  443898.53      Ctg  191792.06\n",
       "2        153441.51       101145.55  407934.54  Rangpur  191050.39\n",
       "3        144372.41       118671.85  383199.62    Dhaka  182901.99\n",
       "4        142107.34        91391.77  366168.42  Rangpur  166187.94"
      ]
     },
     "execution_count": 5,
     "metadata": {},
     "output_type": "execute_result"
    }
   ],
   "source": [
    "file='E:\\Education\\Programming\\Traning Vedio\\Class_05\\\\agora.csv'\n",
    "df = pd.read_csv(file)\n",
    "df.head()"
   ]
  },
  {
   "cell_type": "code",
   "execution_count": 6,
   "id": "12148228",
   "metadata": {},
   "outputs": [
    {
     "data": {
      "text/plain": [
       "(50, 5)"
      ]
     },
     "execution_count": 6,
     "metadata": {},
     "output_type": "execute_result"
    }
   ],
   "source": [
    "df.shape"
   ]
  },
  {
   "cell_type": "code",
   "execution_count": 7,
   "id": "e9031f7a",
   "metadata": {},
   "outputs": [],
   "source": [
    "x = df.drop(['Profit','Area'],axis=1)\n",
    "y = df['Profit']"
   ]
  },
  {
   "cell_type": "code",
   "execution_count": 8,
   "id": "1c2ca439",
   "metadata": {},
   "outputs": [
    {
     "data": {
      "text/plain": [
       "(   Marketing Spend  Administration  Transport\n",
       " 0        114523.61       136897.80  471784.10\n",
       " 1        162597.70       151377.59  443898.53\n",
       " 2        153441.51       101145.55  407934.54\n",
       " 3        144372.41       118671.85  383199.62\n",
       " 4        142107.34        91391.77  366168.42,\n",
       " 0    192261.83\n",
       " 1    191792.06\n",
       " 2    191050.39\n",
       " 3    182901.99\n",
       " 4    166187.94\n",
       " Name: Profit, dtype: float64)"
      ]
     },
     "execution_count": 8,
     "metadata": {},
     "output_type": "execute_result"
    }
   ],
   "source": [
    "x.head(),y.head()"
   ]
  },
  {
   "cell_type": "markdown",
   "id": "b1bd3aaa",
   "metadata": {},
   "source": [
    "# MinMax Scaler"
   ]
  },
  {
   "cell_type": "code",
   "execution_count": 9,
   "id": "86f8ff24",
   "metadata": {},
   "outputs": [],
   "source": [
    "from sklearn.preprocessing import MinMaxScaler"
   ]
  },
  {
   "cell_type": "code",
   "execution_count": 10,
   "id": "939d9bda",
   "metadata": {},
   "outputs": [],
   "source": [
    "scaler = MinMaxScaler()"
   ]
  },
  {
   "cell_type": "code",
   "execution_count": 11,
   "id": "87cfe26c",
   "metadata": {},
   "outputs": [],
   "source": [
    "trans = scaler.fit_transform(x)"
   ]
  },
  {
   "cell_type": "code",
   "execution_count": 12,
   "id": "2b3bb21a",
   "metadata": {},
   "outputs": [
    {
     "data": {
      "text/html": [
       "<div>\n",
       "<style scoped>\n",
       "    .dataframe tbody tr th:only-of-type {\n",
       "        vertical-align: middle;\n",
       "    }\n",
       "\n",
       "    .dataframe tbody tr th {\n",
       "        vertical-align: top;\n",
       "    }\n",
       "\n",
       "    .dataframe thead th {\n",
       "        text-align: right;\n",
       "    }\n",
       "</style>\n",
       "<table border=\"1\" class=\"dataframe\">\n",
       "  <thead>\n",
       "    <tr style=\"text-align: right;\">\n",
       "      <th></th>\n",
       "      <th>Marketing Spend</th>\n",
       "      <th>Administration</th>\n",
       "      <th>Transport</th>\n",
       "    </tr>\n",
       "  </thead>\n",
       "  <tbody>\n",
       "    <tr>\n",
       "      <th>0</th>\n",
       "      <td>114523.61</td>\n",
       "      <td>136897.80</td>\n",
       "      <td>471784.10</td>\n",
       "    </tr>\n",
       "    <tr>\n",
       "      <th>1</th>\n",
       "      <td>162597.70</td>\n",
       "      <td>151377.59</td>\n",
       "      <td>443898.53</td>\n",
       "    </tr>\n",
       "    <tr>\n",
       "      <th>2</th>\n",
       "      <td>153441.51</td>\n",
       "      <td>101145.55</td>\n",
       "      <td>407934.54</td>\n",
       "    </tr>\n",
       "    <tr>\n",
       "      <th>3</th>\n",
       "      <td>144372.41</td>\n",
       "      <td>118671.85</td>\n",
       "      <td>383199.62</td>\n",
       "    </tr>\n",
       "    <tr>\n",
       "      <th>4</th>\n",
       "      <td>142107.34</td>\n",
       "      <td>91391.77</td>\n",
       "      <td>366168.42</td>\n",
       "    </tr>\n",
       "  </tbody>\n",
       "</table>\n",
       "</div>"
      ],
      "text/plain": [
       "   Marketing Spend  Administration  Transport\n",
       "0        114523.61       136897.80  471784.10\n",
       "1        162597.70       151377.59  443898.53\n",
       "2        153441.51       101145.55  407934.54\n",
       "3        144372.41       118671.85  383199.62\n",
       "4        142107.34        91391.77  366168.42"
      ]
     },
     "execution_count": 12,
     "metadata": {},
     "output_type": "execute_result"
    }
   ],
   "source": [
    "x.head()"
   ]
  },
  {
   "cell_type": "code",
   "execution_count": 13,
   "id": "1633185b",
   "metadata": {},
   "outputs": [],
   "source": [
    "X = pd.DataFrame(trans, columns =['Marketing Spend','Administration','Transport'])"
   ]
  },
  {
   "cell_type": "code",
   "execution_count": 14,
   "id": "4e39534d",
   "metadata": {},
   "outputs": [],
   "source": [
    "moutput = X.head()"
   ]
  },
  {
   "cell_type": "code",
   "execution_count": 15,
   "id": "0f49f977",
   "metadata": {},
   "outputs": [
    {
     "name": "stdout",
     "output_type": "stream",
     "text": [
      "The MinMaxScaler output: \n",
      "    Marketing Spend  Administration  Transport\n",
      "0         0.692617        0.651744   1.000000\n",
      "1         0.983359        0.761972   0.940893\n",
      "2         0.927985        0.379579   0.864664\n",
      "3         0.873136        0.512998   0.812235\n",
      "4         0.859438        0.305328   0.776136\n"
     ]
    }
   ],
   "source": [
    "print('The MinMaxScaler output: \\n', moutput)"
   ]
  },
  {
   "cell_type": "markdown",
   "id": "594fb83e",
   "metadata": {},
   "source": [
    "# Standard Scaler"
   ]
  },
  {
   "cell_type": "code",
   "execution_count": 16,
   "id": "7e32471c",
   "metadata": {},
   "outputs": [],
   "source": [
    "from sklearn.preprocessing import StandardScaler"
   ]
  },
  {
   "cell_type": "code",
   "execution_count": 17,
   "id": "f8403e51",
   "metadata": {},
   "outputs": [
    {
     "data": {
      "text/html": [
       "<div>\n",
       "<style scoped>\n",
       "    .dataframe tbody tr th:only-of-type {\n",
       "        vertical-align: middle;\n",
       "    }\n",
       "\n",
       "    .dataframe tbody tr th {\n",
       "        vertical-align: top;\n",
       "    }\n",
       "\n",
       "    .dataframe thead th {\n",
       "        text-align: right;\n",
       "    }\n",
       "</style>\n",
       "<table border=\"1\" class=\"dataframe\">\n",
       "  <thead>\n",
       "    <tr style=\"text-align: right;\">\n",
       "      <th></th>\n",
       "      <th>Marketing Spend</th>\n",
       "      <th>Administration</th>\n",
       "      <th>Transport</th>\n",
       "    </tr>\n",
       "  </thead>\n",
       "  <tbody>\n",
       "    <tr>\n",
       "      <th>0</th>\n",
       "      <td>114523.61</td>\n",
       "      <td>136897.80</td>\n",
       "      <td>471784.10</td>\n",
       "    </tr>\n",
       "    <tr>\n",
       "      <th>1</th>\n",
       "      <td>162597.70</td>\n",
       "      <td>151377.59</td>\n",
       "      <td>443898.53</td>\n",
       "    </tr>\n",
       "    <tr>\n",
       "      <th>2</th>\n",
       "      <td>153441.51</td>\n",
       "      <td>101145.55</td>\n",
       "      <td>407934.54</td>\n",
       "    </tr>\n",
       "    <tr>\n",
       "      <th>3</th>\n",
       "      <td>144372.41</td>\n",
       "      <td>118671.85</td>\n",
       "      <td>383199.62</td>\n",
       "    </tr>\n",
       "    <tr>\n",
       "      <th>4</th>\n",
       "      <td>142107.34</td>\n",
       "      <td>91391.77</td>\n",
       "      <td>366168.42</td>\n",
       "    </tr>\n",
       "  </tbody>\n",
       "</table>\n",
       "</div>"
      ],
      "text/plain": [
       "   Marketing Spend  Administration  Transport\n",
       "0        114523.61       136897.80  471784.10\n",
       "1        162597.70       151377.59  443898.53\n",
       "2        153441.51       101145.55  407934.54\n",
       "3        144372.41       118671.85  383199.62\n",
       "4        142107.34        91391.77  366168.42"
      ]
     },
     "execution_count": 17,
     "metadata": {},
     "output_type": "execute_result"
    }
   ],
   "source": [
    "x.head()"
   ]
  },
  {
   "cell_type": "code",
   "execution_count": 18,
   "id": "defaf8cc",
   "metadata": {
    "scrolled": true
   },
   "outputs": [],
   "source": [
    "sscaler = StandardScaler()"
   ]
  },
  {
   "cell_type": "code",
   "execution_count": 19,
   "id": "a4018156",
   "metadata": {},
   "outputs": [],
   "source": [
    "strans = sscaler.fit_transform(x)"
   ]
  },
  {
   "cell_type": "code",
   "execution_count": 20,
   "id": "fde326c5",
   "metadata": {},
   "outputs": [],
   "source": [
    "sX = pd.DataFrame(strans, columns =['Marketing Spend','Administration','Transport'])"
   ]
  },
  {
   "cell_type": "code",
   "execution_count": 21,
   "id": "fd3ff148",
   "metadata": {},
   "outputs": [],
   "source": [
    "soutput = sX.head()"
   ]
  },
  {
   "cell_type": "code",
   "execution_count": 22,
   "id": "a9465147",
   "metadata": {},
   "outputs": [
    {
     "name": "stdout",
     "output_type": "stream",
     "text": [
      "The StandearedScaler output: \n",
      "    Marketing Spend  Administration  Transport\n",
      "0         0.897913        0.560753   2.165287\n",
      "1         1.955860        1.082807   1.929843\n",
      "2         1.754364       -0.728257   1.626191\n",
      "3         1.554784       -0.096365   1.417348\n",
      "4         1.504937       -1.079919   1.273550\n"
     ]
    }
   ],
   "source": [
    "print('The StandearedScaler output: \\n', soutput)"
   ]
  },
  {
   "cell_type": "markdown",
   "id": "3a236f77",
   "metadata": {},
   "source": [
    "# Robust Scaler"
   ]
  },
  {
   "cell_type": "code",
   "execution_count": 23,
   "id": "4de1f897",
   "metadata": {},
   "outputs": [],
   "source": [
    "from sklearn.preprocessing import RobustScaler"
   ]
  },
  {
   "cell_type": "code",
   "execution_count": 24,
   "id": "d4321b3c",
   "metadata": {},
   "outputs": [
    {
     "data": {
      "text/html": [
       "<div>\n",
       "<style scoped>\n",
       "    .dataframe tbody tr th:only-of-type {\n",
       "        vertical-align: middle;\n",
       "    }\n",
       "\n",
       "    .dataframe tbody tr th {\n",
       "        vertical-align: top;\n",
       "    }\n",
       "\n",
       "    .dataframe thead th {\n",
       "        text-align: right;\n",
       "    }\n",
       "</style>\n",
       "<table border=\"1\" class=\"dataframe\">\n",
       "  <thead>\n",
       "    <tr style=\"text-align: right;\">\n",
       "      <th></th>\n",
       "      <th>Marketing Spend</th>\n",
       "      <th>Administration</th>\n",
       "      <th>Transport</th>\n",
       "    </tr>\n",
       "  </thead>\n",
       "  <tbody>\n",
       "    <tr>\n",
       "      <th>0</th>\n",
       "      <td>114523.61</td>\n",
       "      <td>136897.80</td>\n",
       "      <td>471784.10</td>\n",
       "    </tr>\n",
       "    <tr>\n",
       "      <th>1</th>\n",
       "      <td>162597.70</td>\n",
       "      <td>151377.59</td>\n",
       "      <td>443898.53</td>\n",
       "    </tr>\n",
       "    <tr>\n",
       "      <th>2</th>\n",
       "      <td>153441.51</td>\n",
       "      <td>101145.55</td>\n",
       "      <td>407934.54</td>\n",
       "    </tr>\n",
       "    <tr>\n",
       "      <th>3</th>\n",
       "      <td>144372.41</td>\n",
       "      <td>118671.85</td>\n",
       "      <td>383199.62</td>\n",
       "    </tr>\n",
       "    <tr>\n",
       "      <th>4</th>\n",
       "      <td>142107.34</td>\n",
       "      <td>91391.77</td>\n",
       "      <td>366168.42</td>\n",
       "    </tr>\n",
       "  </tbody>\n",
       "</table>\n",
       "</div>"
      ],
      "text/plain": [
       "   Marketing Spend  Administration  Transport\n",
       "0        114523.61       136897.80  471784.10\n",
       "1        162597.70       151377.59  443898.53\n",
       "2        153441.51       101145.55  407934.54\n",
       "3        144372.41       118671.85  383199.62\n",
       "4        142107.34        91391.77  366168.42"
      ]
     },
     "execution_count": 24,
     "metadata": {},
     "output_type": "execute_result"
    }
   ],
   "source": [
    "x.head()"
   ]
  },
  {
   "cell_type": "code",
   "execution_count": 25,
   "id": "747b9b1a",
   "metadata": {},
   "outputs": [],
   "source": [
    "rscaler = RobustScaler()"
   ]
  },
  {
   "cell_type": "code",
   "execution_count": 26,
   "id": "4048ee6c",
   "metadata": {},
   "outputs": [],
   "source": [
    "rtrans = rscaler.fit_transform(x)"
   ]
  },
  {
   "cell_type": "code",
   "execution_count": 27,
   "id": "f003db5a",
   "metadata": {},
   "outputs": [],
   "source": [
    "rX = pd.DataFrame(strans, columns =['Marketing Spend','Administration','Transport'])"
   ]
  },
  {
   "cell_type": "code",
   "execution_count": 28,
   "id": "e11354e4",
   "metadata": {},
   "outputs": [],
   "source": [
    "routput = rX.head()"
   ]
  },
  {
   "cell_type": "code",
   "execution_count": 29,
   "id": "ac222996",
   "metadata": {},
   "outputs": [
    {
     "name": "stdout",
     "output_type": "stream",
     "text": [
      "The Robust Scaler output:\n",
      "    Marketing Spend  Administration  Transport\n",
      "0         0.897913        0.560753   2.165287\n",
      "1         1.955860        1.082807   1.929843\n",
      "2         1.754364       -0.728257   1.626191\n",
      "3         1.554784       -0.096365   1.417348\n",
      "4         1.504937       -1.079919   1.273550\n"
     ]
    }
   ],
   "source": [
    "print('The Robust Scaler output:\\n', routput)"
   ]
  },
  {
   "cell_type": "markdown",
   "id": "98e09e7d",
   "metadata": {},
   "source": [
    "# MaxAbsScaler"
   ]
  },
  {
   "cell_type": "code",
   "execution_count": 30,
   "id": "430b29fd",
   "metadata": {},
   "outputs": [],
   "source": [
    "from sklearn.preprocessing import MaxAbsScaler"
   ]
  },
  {
   "cell_type": "code",
   "execution_count": 31,
   "id": "a2f61c69",
   "metadata": {},
   "outputs": [],
   "source": [
    "ascaler = MaxAbsScaler()"
   ]
  },
  {
   "cell_type": "code",
   "execution_count": 33,
   "id": "ce838d28",
   "metadata": {},
   "outputs": [],
   "source": [
    "atrans = ascaler.fit_transform(x)"
   ]
  },
  {
   "cell_type": "code",
   "execution_count": 35,
   "id": "368e0181",
   "metadata": {},
   "outputs": [],
   "source": [
    "aX = pd.DataFrame(atrans, columns = ['Marketing Spend','Administration','Transport'])"
   ]
  },
  {
   "cell_type": "code",
   "execution_count": 38,
   "id": "e4a3cf35",
   "metadata": {},
   "outputs": [],
   "source": [
    "aoutput = aX.head()"
   ]
  },
  {
   "cell_type": "code",
   "execution_count": 40,
   "id": "222de5f0",
   "metadata": {},
   "outputs": [
    {
     "name": "stdout",
     "output_type": "stream",
     "text": [
      "The MaxAbsScaler output:\n",
      "    Marketing Spend  Administration  Transport\n",
      "0         0.692617        0.749527   1.000000\n",
      "1         0.983359        0.828805   0.940893\n",
      "2         0.927985        0.553781   0.864664\n",
      "3         0.873136        0.649738   0.812235\n",
      "4         0.859438        0.500378   0.776136\n"
     ]
    }
   ],
   "source": [
    "print('The MaxAbsScaler output:\\n',aoutput)"
   ]
  },
  {
   "cell_type": "markdown",
   "id": "4391568c",
   "metadata": {},
   "source": [
    "# Summary Table"
   ]
  },
  {
   "cell_type": "code",
   "execution_count": 55,
   "id": "e8700daf",
   "metadata": {},
   "outputs": [
    {
     "name": "stdout",
     "output_type": "stream",
     "text": [
      "The MinMaxScaler Output:\n",
      "\n",
      "    Marketing Spend  Administration  Transport\n",
      "0         0.692617        0.651744   1.000000\n",
      "1         0.983359        0.761972   0.940893\n",
      "2         0.927985        0.379579   0.864664\n",
      "3         0.873136        0.512998   0.812235\n",
      "4         0.859438        0.305328   0.776136\n",
      "\n",
      "...................................................\n",
      "\n",
      "The StandaredScaler Output:\n",
      "\n",
      "    Marketing Spend  Administration  Transport\n",
      "0         0.897913        0.560753   2.165287\n",
      "1         1.955860        1.082807   1.929843\n",
      "2         1.754364       -0.728257   1.626191\n",
      "3         1.554784       -0.096365   1.417348\n",
      "4         1.504937       -1.079919   1.273550\n",
      "\n",
      "...................................................\n",
      "\n",
      "The Robust Scaler Output:\n",
      "\n",
      "    Marketing Spend  Administration  Transport\n",
      "0         0.897913        0.560753   2.165287\n",
      "1         1.955860        1.082807   1.929843\n",
      "2         1.754364       -0.728257   1.626191\n",
      "3         1.554784       -0.096365   1.417348\n",
      "4         1.504937       -1.079919   1.273550\n",
      "\n",
      "...................................................\n",
      "\n",
      "The MaxAbsScaler Output:\n",
      "\n",
      "    Marketing Spend  Administration  Transport\n",
      "0         0.692617        0.749527   1.000000\n",
      "1         0.983359        0.828805   0.940893\n",
      "2         0.927985        0.553781   0.864664\n",
      "3         0.873136        0.649738   0.812235\n",
      "4         0.859438        0.500378   0.776136\n"
     ]
    }
   ],
   "source": [
    "#All summary of feature transformation Scaler\n",
    "print('The MinMaxScaler Output:\\n\\n', moutput)\n",
    "print('\\n...................................................')\n",
    "print('\\nThe StandaredScaler Output:\\n\\n', soutput)\n",
    "print('\\n...................................................')\n",
    "print('\\nThe Robust Scaler Output:\\n\\n', routput)\n",
    "print('\\n...................................................')\n",
    "print('\\nThe MaxAbsScaler Output:\\n\\n', aoutput)"
   ]
  }
 ],
 "metadata": {
  "kernelspec": {
   "display_name": "Python 3",
   "language": "python",
   "name": "python3"
  },
  "language_info": {
   "codemirror_mode": {
    "name": "ipython",
    "version": 3
   },
   "file_extension": ".py",
   "mimetype": "text/x-python",
   "name": "python",
   "nbconvert_exporter": "python",
   "pygments_lexer": "ipython3",
   "version": "3.8.8"
  }
 },
 "nbformat": 4,
 "nbformat_minor": 5
}
